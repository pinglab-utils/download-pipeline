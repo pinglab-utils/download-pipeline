{
 "cells": [
  {
   "cell_type": "code",
   "execution_count": 17,
   "metadata": {},
   "outputs": [],
   "source": [
    "import time\n",
    "import json as json\n",
    "import re\n",
    "import sys\n",
    "import os\n",
    "from collections import defaultdict\n",
    "from elasticsearch import Elasticsearch\n",
    "from elasticsearch_dsl import Search, Q"
   ]
  },
  {
   "cell_type": "markdown",
   "metadata": {},
   "source": [
    "### Initialize Indexing"
   ]
  },
  {
   "cell_type": "code",
   "execution_count": 18,
   "metadata": {},
   "outputs": [
    {
     "name": "stdout",
     "output_type": "stream",
     "text": [
      "Deleting index icd11 , Response: {'acknowledged': True}\n",
      "Create index icd11 , Response: {'acknowledged': True, 'shards_acknowledged': True, 'index': 'icd11'}\n"
     ]
    }
   ],
   "source": [
    "INDEX_NAME = \"icd11\"\n",
    "NUMBER_SHARDS = 1 # keep this as one if no clusterNUMBER_REPLICAS = 0 \n",
    "NUMBER_REPLICAS = 0\n",
    "\n",
    "request_body = {\n",
    "        \"settings\": {\n",
    "            \"number_of_shards\": NUMBER_SHARDS,\n",
    "            \"number_of_replicas\": NUMBER_REPLICAS\n",
    "        },\n",
    "        \"mappings\": {\n",
    "                \"properties\": {\n",
    "                    \"id\": {\n",
    "                        \"type\": \"keyword\"\n",
    "                    },\n",
    "                    \"tree\":{\n",
    "                        \"type\": \"text\"\n",
    "                    },\n",
    "                    \"name\":{\n",
    "                        \"type\": \"text\"\n",
    "                    },\n",
    "                    \"root\":{\n",
    "                        \"type\": \"text\"\n",
    "                    },\n",
    "                    \"degree\":{\n",
    "                        \"type\": \"integer\"\n",
    "                    },\n",
    "                    \"definition\":{\n",
    "                        \"type\": \"text\"\n",
    "                    },\n",
    "                    \"synonym\":{\n",
    "                        \"type\": \"text\"\n",
    "                    }\n",
    "                }\n",
    "            }\n",
    "        }\n",
    "    \n",
    "\n",
    "es = Elasticsearch()\n",
    "\n",
    "if es.indices.exists(INDEX_NAME):\n",
    "     res = es.indices.delete(index = INDEX_NAME)\n",
    "     print(\"Deleting index %s , Response: %s\" % (INDEX_NAME, res))\n",
    "    \n",
    "res = es.indices.create(index = INDEX_NAME, body = request_body)\n",
    "print(\"Create index %s , Response: %s\" % (INDEX_NAME, res))"
   ]
  },
  {
   "cell_type": "markdown",
   "metadata": {},
   "source": [
    "------------------"
   ]
  },
  {
   "cell_type": "markdown",
   "metadata": {},
   "source": [
    "### Populate the Index"
   ]
  },
  {
   "cell_type": "code",
   "execution_count": 19,
   "metadata": {},
   "outputs": [],
   "source": [
    "with open(\"../parsing/DATA.json\", 'r')as f2:\n",
    "    DATA= json.load(f2)"
   ]
  },
  {
   "cell_type": "code",
   "execution_count": 20,
   "metadata": {},
   "outputs": [
    {
     "name": "stdout",
     "output_type": "stream",
     "text": [
      " i bulk indexing... 2500, escaped time 0.9263837337493896 (seconds) \n",
      " i bulk indexing... 5000, escaped time 2.0179827213287354 (seconds) \n",
      " i bulk indexing... 7500, escaped time 2.954326868057251 (seconds) \n",
      " i bulk indexing... 10000, escaped time 3.792841672897339 (seconds) \n",
      " i bulk indexing... 12500, escaped time 4.495110750198364 (seconds) \n",
      " i bulk indexing... 15000, escaped time 5.417844533920288 (seconds) \n",
      " i bulk indexing... 17500, escaped time 6.514837741851807 (seconds) \n",
      " i bulk indexing... 20000, escaped time 7.4667112827301025 (seconds) \n",
      " i bulk indexing... 22500, escaped time 8.413321495056152 (seconds) \n",
      " i bulk indexing... 25000, escaped time 9.359683752059937 (seconds) \n",
      " i bulk indexing... 27500, escaped time 10.310441732406616 (seconds) \n",
      " i bulk indexing... 30000, escaped time 11.214623212814331 (seconds) \n",
      " i bulk indexing... 32500, escaped time 12.159061670303345 (seconds) \n",
      " i bulk indexing... 35000, escaped time 13.078675746917725 (seconds) \n",
      " i bulk indexing... 37500, escaped time 14.0087308883667 (seconds) \n",
      " i bulk indexing... 40000, escaped time 15.047700643539429 (seconds) \n",
      " i bulk indexing... 42500, escaped time 15.988947629928589 (seconds) \n",
      " i bulk indexing... 45000, escaped time 16.934659481048584 (seconds) \n",
      " i bulk indexing... 47500, escaped time 17.799855709075928 (seconds) \n",
      " i bulk indexing... 50000, escaped time 18.733248233795166 (seconds) \n",
      " i bulk indexing... 52500, escaped time 19.68578791618347 (seconds) \n",
      " i bulk indexing... 55000, escaped time 20.781371593475342 (seconds) \n",
      " i bulk indexing... 57500, escaped time 21.750246047973633 (seconds) \n",
      " i bulk indexing... 60000, escaped time 22.69612717628479 (seconds) \n",
      " i bulk indexing... 62500, escaped time 23.656907081604004 (seconds) \n",
      " i bulk indexing... 65000, escaped time 24.59721875190735 (seconds) \n",
      " i bulk indexing... 67500, escaped time 25.710102319717407 (seconds) \n",
      "Finish meta-data indexing. Total escaped time 26.206749439239502 (seconds) \n"
     ]
    }
   ],
   "source": [
    "logFilePath = \"log.txt\"\n",
    "\n",
    "INDEX_NAME = \"icd11\"\n",
    "\n",
    "es = Elasticsearch()\n",
    "\n",
    "ic = 0\n",
    "ir = 0\n",
    "\n",
    "with open(logFilePath, \"w\") as fout:\n",
    "        start = time.time()\n",
    "        bulk_size = 50 # number of document processed in each bulk index\n",
    "        bulk_data = [] # data in bulk index\n",
    "\n",
    "        cnt = 0\n",
    "        for item in DATA: ## each item is single document\n",
    "                cnt += 1\n",
    "                \n",
    "                data_dict = {}\n",
    "                \n",
    "                # update ID\n",
    "                data_dict[\"id\"] = item[\"id\"]\n",
    "                \n",
    "        \n",
    "\n",
    "                # update detail<------------------\n",
    "                data_dict[\"tree\"] = item[\"tree\"]\n",
    "                data_dict[\"root\"] = item[\"root\"]\n",
    "                data_dict[\"name\"] = item[\"name\"]\n",
    "                data_dict['parents']=item['parents']\n",
    "                data_dict['childs'] = item['childs']\n",
    "                data_dict[\"sibls\"] = item[\"sibls\"]\n",
    "                data_dict[\"degree\"] = item[\"degree\"]\n",
    "                data_dict[\"synonym\"] = item[\"synonym\"]\n",
    "                data_dict[\"definition\"] = item[\"definition\"]\n",
    "\n",
    "                        \n",
    "                \n",
    "                ## Put current data into the bulk <---------\n",
    "                op_dict = {\n",
    "                    \"index\": {\n",
    "                        \"_index\": INDEX_NAME,\n",
    "                        \"_id\": data_dict[\"id\"]\n",
    "                    }\n",
    "                }\n",
    "\n",
    "                bulk_data.append(op_dict)\n",
    "                bulk_data.append(data_dict) \n",
    "                \n",
    "                \n",
    "                \n",
    "                        \n",
    "                ## Start Bulk indexing\n",
    "                if cnt % bulk_size == 0 and cnt != 0:\n",
    "                    ic += 1\n",
    "                    tmp = time.time()\n",
    "                    es.bulk(index=INDEX_NAME, body=bulk_data, request_timeout = 500)\n",
    "                    fout.write(\"bulk indexing... %s, escaped time %s (seconds) \\n\" \\\n",
    "                               % ( cnt, tmp - start ) )\n",
    "                    \n",
    "                    if ic%50 ==0:\n",
    "                        print(\" i bulk indexing... %s, escaped time %s (seconds) \" \\\n",
    "                              % ( cnt, tmp - start ) )\n",
    "                    \n",
    "                    \n",
    "                    bulk_data = []\n",
    "                \n",
    "                \n",
    "        \n",
    "        ## indexing those left papers\n",
    "        if bulk_data:\n",
    "            ir +=1\n",
    "            tmp = time.time()\n",
    "            es.bulk(index=INDEX_NAME, body=bulk_data, request_timeout = 500)\n",
    "            fout.write(\"bulk indexing... %s, escaped time %s (seconds) \\n\"\\\n",
    "                       % ( cnt, tmp - start ) )\n",
    "            \n",
    "            if ir%50 ==0:\n",
    "                print(\" r bulk indexing... %s, escaped time %s (seconds) \"\\\n",
    "                      % ( cnt, tmp - start ) )\n",
    "            bulk_data = []\n",
    "            \n",
    "        \n",
    "\n",
    "        end = time.time()\n",
    "        fout.write(\"Finish  meta-data indexing. Total escaped time %s (seconds) \\n\"\\\n",
    "                   % (end - start) )\n",
    "        print(\"Finish meta-data indexing. Total escaped time %s (seconds) \"\\\n",
    "              % (end - start) )"
   ]
  },
  {
   "cell_type": "code",
   "execution_count": null,
   "metadata": {},
   "outputs": [],
   "source": []
  },
  {
   "cell_type": "code",
   "execution_count": null,
   "metadata": {},
   "outputs": [],
   "source": []
  },
  {
   "cell_type": "code",
   "execution_count": null,
   "metadata": {},
   "outputs": [],
   "source": []
  },
  {
   "cell_type": "code",
   "execution_count": null,
   "metadata": {},
   "outputs": [],
   "source": []
  },
  {
   "cell_type": "code",
   "execution_count": null,
   "metadata": {},
   "outputs": [],
   "source": []
  },
  {
   "cell_type": "code",
   "execution_count": null,
   "metadata": {},
   "outputs": [],
   "source": []
  },
  {
   "cell_type": "code",
   "execution_count": null,
   "metadata": {},
   "outputs": [],
   "source": []
  }
 ],
 "metadata": {
  "kernelspec": {
   "display_name": "Python 3",
   "language": "python",
   "name": "python3"
  },
  "language_info": {
   "codemirror_mode": {
    "name": "ipython",
    "version": 3
   },
   "file_extension": ".py",
   "mimetype": "text/x-python",
   "name": "python",
   "nbconvert_exporter": "python",
   "pygments_lexer": "ipython3",
   "version": "3.6.4"
  }
 },
 "nbformat": 4,
 "nbformat_minor": 2
}
